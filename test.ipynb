{
 "cells": [
  {
   "cell_type": "code",
   "execution_count": 19,
   "id": "7b894013-b373-459c-9865-35590b21434e",
   "metadata": {},
   "outputs": [
    {
     "name": "stdout",
     "output_type": "stream",
     "text": [
      "Requirement already satisfied: ipywidgets in c:\\users\\mubashir khan\\appdata\\local\\programs\\python\\python312\\lib\\site-packages (8.1.1)\n",
      "Requirement already satisfied: comm>=0.1.3 in c:\\users\\mubashir khan\\appdata\\local\\programs\\python\\python312\\lib\\site-packages (from ipywidgets) (0.2.1)\n",
      "Requirement already satisfied: ipython>=6.1.0 in c:\\users\\mubashir khan\\appdata\\local\\programs\\python\\python312\\lib\\site-packages (from ipywidgets) (8.20.0)\n",
      "Requirement already satisfied: traitlets>=4.3.1 in c:\\users\\mubashir khan\\appdata\\local\\programs\\python\\python312\\lib\\site-packages (from ipywidgets) (5.14.1)\n",
      "Requirement already satisfied: widgetsnbextension~=4.0.9 in c:\\users\\mubashir khan\\appdata\\local\\programs\\python\\python312\\lib\\site-packages (from ipywidgets) (4.0.9)\n",
      "Requirement already satisfied: jupyterlab-widgets~=3.0.9 in c:\\users\\mubashir khan\\appdata\\local\\programs\\python\\python312\\lib\\site-packages (from ipywidgets) (3.0.9)\n",
      "Requirement already satisfied: decorator in c:\\users\\mubashir khan\\appdata\\local\\programs\\python\\python312\\lib\\site-packages (from ipython>=6.1.0->ipywidgets) (5.1.1)\n",
      "Requirement already satisfied: jedi>=0.16 in c:\\users\\mubashir khan\\appdata\\local\\programs\\python\\python312\\lib\\site-packages (from ipython>=6.1.0->ipywidgets) (0.19.1)\n",
      "Requirement already satisfied: matplotlib-inline in c:\\users\\mubashir khan\\appdata\\local\\programs\\python\\python312\\lib\\site-packages (from ipython>=6.1.0->ipywidgets) (0.1.6)\n",
      "Requirement already satisfied: prompt-toolkit<3.1.0,>=3.0.41 in c:\\users\\mubashir khan\\appdata\\local\\programs\\python\\python312\\lib\\site-packages (from ipython>=6.1.0->ipywidgets) (3.0.43)\n",
      "Requirement already satisfied: pygments>=2.4.0 in c:\\users\\mubashir khan\\appdata\\local\\programs\\python\\python312\\lib\\site-packages (from ipython>=6.1.0->ipywidgets) (2.17.2)\n",
      "Requirement already satisfied: stack-data in c:\\users\\mubashir khan\\appdata\\local\\programs\\python\\python312\\lib\\site-packages (from ipython>=6.1.0->ipywidgets) (0.6.3)\n",
      "Requirement already satisfied: colorama in c:\\users\\mubashir khan\\appdata\\local\\programs\\python\\python312\\lib\\site-packages (from ipython>=6.1.0->ipywidgets) (0.4.6)\n",
      "Requirement already satisfied: parso<0.9.0,>=0.8.3 in c:\\users\\mubashir khan\\appdata\\local\\programs\\python\\python312\\lib\\site-packages (from jedi>=0.16->ipython>=6.1.0->ipywidgets) (0.8.3)\n",
      "Requirement already satisfied: wcwidth in c:\\users\\mubashir khan\\appdata\\local\\programs\\python\\python312\\lib\\site-packages (from prompt-toolkit<3.1.0,>=3.0.41->ipython>=6.1.0->ipywidgets) (0.2.13)\n",
      "Requirement already satisfied: executing>=1.2.0 in c:\\users\\mubashir khan\\appdata\\local\\programs\\python\\python312\\lib\\site-packages (from stack-data->ipython>=6.1.0->ipywidgets) (2.0.1)\n",
      "Requirement already satisfied: asttokens>=2.1.0 in c:\\users\\mubashir khan\\appdata\\local\\programs\\python\\python312\\lib\\site-packages (from stack-data->ipython>=6.1.0->ipywidgets) (2.4.1)\n",
      "Requirement already satisfied: pure-eval in c:\\users\\mubashir khan\\appdata\\local\\programs\\python\\python312\\lib\\site-packages (from stack-data->ipython>=6.1.0->ipywidgets) (0.2.2)\n",
      "Requirement already satisfied: six>=1.12.0 in c:\\users\\mubashir khan\\appdata\\local\\programs\\python\\python312\\lib\\site-packages (from asttokens>=2.1.0->stack-data->ipython>=6.1.0->ipywidgets) (1.16.0)\n",
      "Note: you may need to restart the kernel to use updated packages.\n"
     ]
    },
    {
     "name": "stderr",
     "output_type": "stream",
     "text": [
      "DEPRECATION: Loading egg at c:\\users\\mubashir khan\\appdata\\local\\programs\\python\\python312\\lib\\site-packages\\spylon_kernel-0+unknown-py3.12.egg is deprecated. pip 24.3 will enforce this behaviour change. A possible replacement is to use pip for package installation. Discussion can be found at https://github.com/pypa/pip/issues/12330\n",
      "\n",
      "[notice] A new release of pip is available: 24.1.1 -> 24.2\n",
      "[notice] To update, run: python.exe -m pip install --upgrade pip\n"
     ]
    }
   ],
   "source": [
    "pip install ipywidgets"
   ]
  },
  {
   "cell_type": "code",
   "execution_count": 20,
   "id": "f4f8cae2-04e3-4abd-9521-4824c5c75480",
   "metadata": {},
   "outputs": [],
   "source": [
    "import pandas as pd\n",
    "import numpy as np\n",
    "import ipywidgets as widgets\n",
    "from IPython.display import display\n",
    "from sklearn.ensemble import RandomForestRegressor\n",
    "from sklearn.preprocessing import OneHotEncoder, StandardScaler\n",
    "from sklearn.compose import ColumnTransformer\n",
    "from sklearn.pipeline import Pipeline"
   ]
  },
  {
   "cell_type": "code",
   "execution_count": 21,
   "id": "6395c3e2-23e8-4b4f-9698-a4433574e14f",
   "metadata": {},
   "outputs": [],
   "source": [
    "# Load the dataset\n",
    "df = pd.read_csv('SecondCar.csv')\n",
    "\n",
    "# Preprocess the data\n",
    "df = df.dropna()  # Drop rows with missing values\n",
    "df = df.drop_duplicates()  # Drop duplicate rows\n",
    "\n",
    "# Define the features and target variable\n",
    "X = df.drop('selling_price', axis=1)\n",
    "y = df['selling_price']\n",
    "\n",
    "# List of categorical and numeric columns\n",
    "categorical_columns = ['name', 'fuel', 'seller_type', 'transmission', 'owner']\n",
    "numeric_columns = ['year', 'km_driven', 'ExShowroom Price']"
   ]
  },
  {
   "cell_type": "code",
   "execution_count": 22,
   "id": "2d83f03e-0f80-48d0-a760-b475c6326b74",
   "metadata": {},
   "outputs": [],
   "source": [
    "# Define the column transformer\n",
    "preprocessor = ColumnTransformer(\n",
    "    transformers=[\n",
    "        ('num', StandardScaler(), numeric_columns),\n",
    "        ('cat', OneHotEncoder(handle_unknown='ignore'), categorical_columns)\n",
    "    ]\n",
    ")\n",
    "\n",
    "# Define the Random Forest model\n",
    "model = RandomForestRegressor(n_estimators=100, random_state=42)\n",
    "\n",
    "# Create a pipeline\n",
    "pipeline = Pipeline(steps=[('preprocessor', preprocessor),\n",
    "                           ('model', model)])"
   ]
  },
  {
   "cell_type": "code",
   "execution_count": 23,
   "id": "91185d0d-39ce-477d-9cd6-43aebcabcd6d",
   "metadata": {},
   "outputs": [
    {
     "data": {
      "text/html": [
       "<style>#sk-container-id-2 {color: black;}#sk-container-id-2 pre{padding: 0;}#sk-container-id-2 div.sk-toggleable {background-color: white;}#sk-container-id-2 label.sk-toggleable__label {cursor: pointer;display: block;width: 100%;margin-bottom: 0;padding: 0.3em;box-sizing: border-box;text-align: center;}#sk-container-id-2 label.sk-toggleable__label-arrow:before {content: \"▸\";float: left;margin-right: 0.25em;color: #696969;}#sk-container-id-2 label.sk-toggleable__label-arrow:hover:before {color: black;}#sk-container-id-2 div.sk-estimator:hover label.sk-toggleable__label-arrow:before {color: black;}#sk-container-id-2 div.sk-toggleable__content {max-height: 0;max-width: 0;overflow: hidden;text-align: left;background-color: #f0f8ff;}#sk-container-id-2 div.sk-toggleable__content pre {margin: 0.2em;color: black;border-radius: 0.25em;background-color: #f0f8ff;}#sk-container-id-2 input.sk-toggleable__control:checked~div.sk-toggleable__content {max-height: 200px;max-width: 100%;overflow: auto;}#sk-container-id-2 input.sk-toggleable__control:checked~label.sk-toggleable__label-arrow:before {content: \"▾\";}#sk-container-id-2 div.sk-estimator input.sk-toggleable__control:checked~label.sk-toggleable__label {background-color: #d4ebff;}#sk-container-id-2 div.sk-label input.sk-toggleable__control:checked~label.sk-toggleable__label {background-color: #d4ebff;}#sk-container-id-2 input.sk-hidden--visually {border: 0;clip: rect(1px 1px 1px 1px);clip: rect(1px, 1px, 1px, 1px);height: 1px;margin: -1px;overflow: hidden;padding: 0;position: absolute;width: 1px;}#sk-container-id-2 div.sk-estimator {font-family: monospace;background-color: #f0f8ff;border: 1px dotted black;border-radius: 0.25em;box-sizing: border-box;margin-bottom: 0.5em;}#sk-container-id-2 div.sk-estimator:hover {background-color: #d4ebff;}#sk-container-id-2 div.sk-parallel-item::after {content: \"\";width: 100%;border-bottom: 1px solid gray;flex-grow: 1;}#sk-container-id-2 div.sk-label:hover label.sk-toggleable__label {background-color: #d4ebff;}#sk-container-id-2 div.sk-serial::before {content: \"\";position: absolute;border-left: 1px solid gray;box-sizing: border-box;top: 0;bottom: 0;left: 50%;z-index: 0;}#sk-container-id-2 div.sk-serial {display: flex;flex-direction: column;align-items: center;background-color: white;padding-right: 0.2em;padding-left: 0.2em;position: relative;}#sk-container-id-2 div.sk-item {position: relative;z-index: 1;}#sk-container-id-2 div.sk-parallel {display: flex;align-items: stretch;justify-content: center;background-color: white;position: relative;}#sk-container-id-2 div.sk-item::before, #sk-container-id-2 div.sk-parallel-item::before {content: \"\";position: absolute;border-left: 1px solid gray;box-sizing: border-box;top: 0;bottom: 0;left: 50%;z-index: -1;}#sk-container-id-2 div.sk-parallel-item {display: flex;flex-direction: column;z-index: 1;position: relative;background-color: white;}#sk-container-id-2 div.sk-parallel-item:first-child::after {align-self: flex-end;width: 50%;}#sk-container-id-2 div.sk-parallel-item:last-child::after {align-self: flex-start;width: 50%;}#sk-container-id-2 div.sk-parallel-item:only-child::after {width: 0;}#sk-container-id-2 div.sk-dashed-wrapped {border: 1px dashed gray;margin: 0 0.4em 0.5em 0.4em;box-sizing: border-box;padding-bottom: 0.4em;background-color: white;}#sk-container-id-2 div.sk-label label {font-family: monospace;font-weight: bold;display: inline-block;line-height: 1.2em;}#sk-container-id-2 div.sk-label-container {text-align: center;}#sk-container-id-2 div.sk-container {/* jupyter's `normalize.less` sets `[hidden] { display: none; }` but bootstrap.min.css set `[hidden] { display: none !important; }` so we also need the `!important` here to be able to override the default hidden behavior on the sphinx rendered scikit-learn.org. See: https://github.com/scikit-learn/scikit-learn/issues/21755 */display: inline-block !important;position: relative;}#sk-container-id-2 div.sk-text-repr-fallback {display: none;}</style><div id=\"sk-container-id-2\" class=\"sk-top-container\"><div class=\"sk-text-repr-fallback\"><pre>Pipeline(steps=[(&#x27;preprocessor&#x27;,\n",
       "                 ColumnTransformer(transformers=[(&#x27;num&#x27;, StandardScaler(),\n",
       "                                                  [&#x27;year&#x27;, &#x27;km_driven&#x27;,\n",
       "                                                   &#x27;ExShowroom Price&#x27;]),\n",
       "                                                 (&#x27;cat&#x27;,\n",
       "                                                  OneHotEncoder(handle_unknown=&#x27;ignore&#x27;),\n",
       "                                                  [&#x27;name&#x27;, &#x27;fuel&#x27;,\n",
       "                                                   &#x27;seller_type&#x27;,\n",
       "                                                   &#x27;transmission&#x27;,\n",
       "                                                   &#x27;owner&#x27;])])),\n",
       "                (&#x27;model&#x27;, RandomForestRegressor(random_state=42))])</pre><b>In a Jupyter environment, please rerun this cell to show the HTML representation or trust the notebook. <br />On GitHub, the HTML representation is unable to render, please try loading this page with nbviewer.org.</b></div><div class=\"sk-container\" hidden><div class=\"sk-item sk-dashed-wrapped\"><div class=\"sk-label-container\"><div class=\"sk-label sk-toggleable\"><input class=\"sk-toggleable__control sk-hidden--visually\" id=\"sk-estimator-id-8\" type=\"checkbox\" ><label for=\"sk-estimator-id-8\" class=\"sk-toggleable__label sk-toggleable__label-arrow\">Pipeline</label><div class=\"sk-toggleable__content\"><pre>Pipeline(steps=[(&#x27;preprocessor&#x27;,\n",
       "                 ColumnTransformer(transformers=[(&#x27;num&#x27;, StandardScaler(),\n",
       "                                                  [&#x27;year&#x27;, &#x27;km_driven&#x27;,\n",
       "                                                   &#x27;ExShowroom Price&#x27;]),\n",
       "                                                 (&#x27;cat&#x27;,\n",
       "                                                  OneHotEncoder(handle_unknown=&#x27;ignore&#x27;),\n",
       "                                                  [&#x27;name&#x27;, &#x27;fuel&#x27;,\n",
       "                                                   &#x27;seller_type&#x27;,\n",
       "                                                   &#x27;transmission&#x27;,\n",
       "                                                   &#x27;owner&#x27;])])),\n",
       "                (&#x27;model&#x27;, RandomForestRegressor(random_state=42))])</pre></div></div></div><div class=\"sk-serial\"><div class=\"sk-item sk-dashed-wrapped\"><div class=\"sk-label-container\"><div class=\"sk-label sk-toggleable\"><input class=\"sk-toggleable__control sk-hidden--visually\" id=\"sk-estimator-id-9\" type=\"checkbox\" ><label for=\"sk-estimator-id-9\" class=\"sk-toggleable__label sk-toggleable__label-arrow\">preprocessor: ColumnTransformer</label><div class=\"sk-toggleable__content\"><pre>ColumnTransformer(transformers=[(&#x27;num&#x27;, StandardScaler(),\n",
       "                                 [&#x27;year&#x27;, &#x27;km_driven&#x27;, &#x27;ExShowroom Price&#x27;]),\n",
       "                                (&#x27;cat&#x27;, OneHotEncoder(handle_unknown=&#x27;ignore&#x27;),\n",
       "                                 [&#x27;name&#x27;, &#x27;fuel&#x27;, &#x27;seller_type&#x27;, &#x27;transmission&#x27;,\n",
       "                                  &#x27;owner&#x27;])])</pre></div></div></div><div class=\"sk-parallel\"><div class=\"sk-parallel-item\"><div class=\"sk-item\"><div class=\"sk-label-container\"><div class=\"sk-label sk-toggleable\"><input class=\"sk-toggleable__control sk-hidden--visually\" id=\"sk-estimator-id-10\" type=\"checkbox\" ><label for=\"sk-estimator-id-10\" class=\"sk-toggleable__label sk-toggleable__label-arrow\">num</label><div class=\"sk-toggleable__content\"><pre>[&#x27;year&#x27;, &#x27;km_driven&#x27;, &#x27;ExShowroom Price&#x27;]</pre></div></div></div><div class=\"sk-serial\"><div class=\"sk-item\"><div class=\"sk-estimator sk-toggleable\"><input class=\"sk-toggleable__control sk-hidden--visually\" id=\"sk-estimator-id-11\" type=\"checkbox\" ><label for=\"sk-estimator-id-11\" class=\"sk-toggleable__label sk-toggleable__label-arrow\">StandardScaler</label><div class=\"sk-toggleable__content\"><pre>StandardScaler()</pre></div></div></div></div></div></div><div class=\"sk-parallel-item\"><div class=\"sk-item\"><div class=\"sk-label-container\"><div class=\"sk-label sk-toggleable\"><input class=\"sk-toggleable__control sk-hidden--visually\" id=\"sk-estimator-id-12\" type=\"checkbox\" ><label for=\"sk-estimator-id-12\" class=\"sk-toggleable__label sk-toggleable__label-arrow\">cat</label><div class=\"sk-toggleable__content\"><pre>[&#x27;name&#x27;, &#x27;fuel&#x27;, &#x27;seller_type&#x27;, &#x27;transmission&#x27;, &#x27;owner&#x27;]</pre></div></div></div><div class=\"sk-serial\"><div class=\"sk-item\"><div class=\"sk-estimator sk-toggleable\"><input class=\"sk-toggleable__control sk-hidden--visually\" id=\"sk-estimator-id-13\" type=\"checkbox\" ><label for=\"sk-estimator-id-13\" class=\"sk-toggleable__label sk-toggleable__label-arrow\">OneHotEncoder</label><div class=\"sk-toggleable__content\"><pre>OneHotEncoder(handle_unknown=&#x27;ignore&#x27;)</pre></div></div></div></div></div></div></div></div><div class=\"sk-item\"><div class=\"sk-estimator sk-toggleable\"><input class=\"sk-toggleable__control sk-hidden--visually\" id=\"sk-estimator-id-14\" type=\"checkbox\" ><label for=\"sk-estimator-id-14\" class=\"sk-toggleable__label sk-toggleable__label-arrow\">RandomForestRegressor</label><div class=\"sk-toggleable__content\"><pre>RandomForestRegressor(random_state=42)</pre></div></div></div></div></div></div></div>"
      ],
      "text/plain": [
       "Pipeline(steps=[('preprocessor',\n",
       "                 ColumnTransformer(transformers=[('num', StandardScaler(),\n",
       "                                                  ['year', 'km_driven',\n",
       "                                                   'ExShowroom Price']),\n",
       "                                                 ('cat',\n",
       "                                                  OneHotEncoder(handle_unknown='ignore'),\n",
       "                                                  ['name', 'fuel',\n",
       "                                                   'seller_type',\n",
       "                                                   'transmission',\n",
       "                                                   'owner'])])),\n",
       "                ('model', RandomForestRegressor(random_state=42))])"
      ]
     },
     "execution_count": 23,
     "metadata": {},
     "output_type": "execute_result"
    }
   ],
   "source": [
    "# Train the model\n",
    "pipeline.fit(X, y)"
   ]
  },
  {
   "cell_type": "code",
   "execution_count": 24,
   "id": "f83cb194-6ff7-4b3a-a0a8-1c7ddbeec702",
   "metadata": {},
   "outputs": [],
   "source": [
    "# Create widgets for user input\n",
    "car_selector = widgets.Dropdown(\n",
    "    options=df['name'].unique(),\n",
    "    description='Select Car:',\n",
    ")\n",
    "\n",
    "year_selector = widgets.Dropdown(\n",
    "    options=df['year'].unique(),\n",
    "    description='Year:',\n",
    ")\n",
    "\n",
    "# Dropdown for kilometers driven\n",
    "km_driven_selector = widgets.Dropdown(\n",
    "    options=df['km_driven'].unique(),  # Initial empty options\n",
    "    description='Kilometers Driven:',\n",
    ")\n",
    "\n",
    "# Dropdown for fuel type\n",
    "fuel_selector = widgets.Dropdown(\n",
    "    options=df['fuel'].unique(),\n",
    "    description='Fuel Type:',\n",
    ")\n",
    "\n",
    "# Dropdown for seller type\n",
    "seller_type_selector = widgets.Dropdown(\n",
    "    options=df['seller_type'].unique(),\n",
    "    description='Seller Type:',\n",
    ")\n",
    "\n",
    "# Dropdown for transmission type\n",
    "transmission_selector = widgets.Dropdown(\n",
    "    options=df['transmission'].unique(),\n",
    "    description='Transmission:',\n",
    ")\n",
    "\n",
    "# Dropdown for owner type\n",
    "owner_selector = widgets.Dropdown(\n",
    "    options=df['owner'].unique(),\n",
    "    description='Owner:',\n",
    ")\n",
    "\n",
    "# Dropdown for Ex Showroom Price\n",
    "ex_showroom_price_selector = widgets.Dropdown(\n",
    "    options=df['ExShowroom Price'].unique(),  # Initial empty options\n",
    "    description='Ex Showroom Price:',\n",
    ")"
   ]
  },
  {
   "cell_type": "code",
   "execution_count": 25,
   "id": "17bb76a2-b052-4756-9d4c-98194907862f",
   "metadata": {},
   "outputs": [],
   "source": [
    "# Function to update options based on selected car\n",
    "def update_options(car_name):\n",
    "    car_data = df[df['name'] == car_name]\n",
    "    if not car_data.empty:\n",
    "        year_selector.options = car_data['year'].unique()\n",
    "        km_driven_selector.options = car_data['km_driven'].unique()  # Update kilometers driven options\n",
    "        fuel_selector.options = car_data['fuel'].unique()\n",
    "        seller_type_selector.options = car_data['seller_type'].unique()\n",
    "        transmission_selector.options = car_data['transmission'].unique()\n",
    "        owner_selector.options = car_data['owner'].unique()\n",
    "        ex_showroom_price_selector.options = car_data['ExShowroom Price'].unique()  # Update showroom price options\n",
    "        \n",
    "    # Reset other widgets\n",
    "    year_selector.value = year_selector.options[0]\n",
    "    km_driven_selector.value = km_driven_selector.options[0] if km_driven_selector.options else None\n",
    "    ex_showroom_price_selector.value = ex_showroom_price_selector.options[0] if ex_showroom_price_selector.options else None"
   ]
  },
  {
   "cell_type": "code",
   "execution_count": 26,
   "id": "00973e67-687a-409d-a8d2-9a36e694c517",
   "metadata": {},
   "outputs": [],
   "source": [
    "# Function to predict selling price\n",
    "def predict_price(car_name, year, km_driven, fuel, seller_type, transmission, owner, ex_showroom_price):\n",
    "    input_data = pd.DataFrame({\n",
    "        'name': [car_name],\n",
    "        'year': [year],\n",
    "        'km_driven': [km_driven],\n",
    "        'fuel': [fuel],\n",
    "        'seller_type': [seller_type],\n",
    "        'transmission': [transmission],\n",
    "        'owner': [owner],\n",
    "        'ExShowroom Price': [ex_showroom_price]\n",
    "    })\n",
    "\n",
    "    predicted_price = pipeline.predict(input_data)[0]\n",
    "    print(f'Predicted Selling Price: ₹{predicted_price:.2f}')"
   ]
  },
  {
   "cell_type": "code",
   "execution_count": 27,
   "id": "8a6628e7-5745-4d44-8d70-15f42a6fc6f1",
   "metadata": {},
   "outputs": [],
   "source": [
    "# Create a button to trigger prediction\n",
    "predict_button = widgets.Button(description='Predict Selling Price')\n",
    "output = widgets.Output()\n",
    "\n",
    "def on_predict_clicked(b):\n",
    "    with output:\n",
    "        output.clear_output()  # Clear previous outputs\n",
    "        predict_price(car_selector.value, year_selector.value, km_driven_input.value, \n",
    "                      fuel_selector.value, seller_type_selector.value, \n",
    "                      transmission_selector.value, owner_selector.value, \n",
    "                      ex_showroom_price_input.value)\n",
    "\n",
    "predict_button.on_click(on_predict_clicked)"
   ]
  },
  {
   "cell_type": "code",
   "execution_count": 28,
   "id": "4a39ca65-6f26-4369-b0d7-402446f98ed2",
   "metadata": {},
   "outputs": [
    {
     "data": {
      "application/vnd.jupyter.widget-view+json": {
       "model_id": "fd94725713e9497e9b3bd5eea0632b36",
       "version_major": 2,
       "version_minor": 0
      },
      "text/plain": [
       "Dropdown(description='Select Car:', options=('Tata Indica Vista Aqua 1.4 TDI', 'Tata Nano Lx BSIV', 'Tata Indi…"
      ]
     },
     "metadata": {},
     "output_type": "display_data"
    },
    {
     "data": {
      "application/vnd.jupyter.widget-view+json": {
       "model_id": "600be360fb124d3bbf8e28891c3070fd",
       "version_major": 2,
       "version_minor": 0
      },
      "text/plain": [
       "Dropdown(description='Year:', options=(2010, 2012, 2011, 2013, 2015, 2016, 2018, 2014, 2017, 2019, 2020, 2008,…"
      ]
     },
     "metadata": {},
     "output_type": "display_data"
    },
    {
     "data": {
      "application/vnd.jupyter.widget-view+json": {
       "model_id": "7b8b592b7d984e24828e4bdb7b2397e0",
       "version_major": 2,
       "version_minor": 0
      },
      "text/plain": [
       "Dropdown(description='Kilometers Driven:', options=(120000, 50000, 70000, 80000, 20000, 125000, 40000, 60000, …"
      ]
     },
     "metadata": {},
     "output_type": "display_data"
    },
    {
     "data": {
      "application/vnd.jupyter.widget-view+json": {
       "model_id": "3c1c3501a7224015894db907784d7a4f",
       "version_major": 2,
       "version_minor": 0
      },
      "text/plain": [
       "Dropdown(description='Fuel Type:', options=('Diesel', 'Petrol', 'CNG', 'LPG', 'Electric'), value='Diesel')"
      ]
     },
     "metadata": {},
     "output_type": "display_data"
    },
    {
     "data": {
      "application/vnd.jupyter.widget-view+json": {
       "model_id": "5acae4147ac64e979e41f9168ea03b6f",
       "version_major": 2,
       "version_minor": 0
      },
      "text/plain": [
       "Dropdown(description='Seller Type:', options=('Individual', 'Dealer', 'Trustmark Dealer'), value='Individual')"
      ]
     },
     "metadata": {},
     "output_type": "display_data"
    },
    {
     "data": {
      "application/vnd.jupyter.widget-view+json": {
       "model_id": "d94af05bca4741e897a8d123a0f302c4",
       "version_major": 2,
       "version_minor": 0
      },
      "text/plain": [
       "Dropdown(description='Transmission:', options=('Manual', 'Automatic'), value='Manual')"
      ]
     },
     "metadata": {},
     "output_type": "display_data"
    },
    {
     "data": {
      "application/vnd.jupyter.widget-view+json": {
       "model_id": "c30261a9168d4635bdd8c203bb5f8bc8",
       "version_major": 2,
       "version_minor": 0
      },
      "text/plain": [
       "Dropdown(description='Owner:', options=('Second Owner', 'First Owner', 'Third Owner', 'Fourth & Above Owner', …"
      ]
     },
     "metadata": {},
     "output_type": "display_data"
    },
    {
     "data": {
      "application/vnd.jupyter.widget-view+json": {
       "model_id": "200c7d4625f14d2c9ba4fba1e1ec78f1",
       "version_major": 2,
       "version_minor": 0
      },
      "text/plain": [
       "Dropdown(description='Ex Showroom Price:', options=(106001, 108556, 120678, 122917, 144902, 145258, 147079, 14…"
      ]
     },
     "metadata": {},
     "output_type": "display_data"
    },
    {
     "data": {
      "application/vnd.jupyter.widget-view+json": {
       "model_id": "1ff20643a48d40f5907578b7d04b34c2",
       "version_major": 2,
       "version_minor": 0
      },
      "text/plain": [
       "Button(description='Predict Selling Price', style=ButtonStyle())"
      ]
     },
     "metadata": {},
     "output_type": "display_data"
    },
    {
     "data": {
      "application/vnd.jupyter.widget-view+json": {
       "model_id": "79114a9c272f44a7b62f2d4b70d1cc97",
       "version_major": 2,
       "version_minor": 0
      },
      "text/plain": [
       "Output()"
      ]
     },
     "metadata": {},
     "output_type": "display_data"
    }
   ],
   "source": [
    "# Display all widgets\n",
    "display(car_selector, year_selector, km_driven_selector, fuel_selector, \n",
    "        seller_type_selector, transmission_selector, owner_selector, \n",
    "        ex_showroom_price_selector, predict_button, output)"
   ]
  },
  {
   "cell_type": "code",
   "execution_count": null,
   "id": "4d65add3-110d-4161-9a49-9ef15aba088f",
   "metadata": {},
   "outputs": [],
   "source": []
  },
  {
   "cell_type": "code",
   "execution_count": 52,
   "id": "081ccddc-9c1f-4727-9176-ee772ccb560d",
   "metadata": {},
   "outputs": [
    {
     "data": {
      "application/vnd.jupyter.widget-view+json": {
       "model_id": "c89f37c087cb4a5c8049780afba0fd0d",
       "version_major": 2,
       "version_minor": 0
      },
      "text/plain": [
       "Dropdown(description='Select Car:', options=('Tata Indica Vista Aqua 1.4 TDI', 'Tata Nano Lx BSIV', 'Tata Indi…"
      ]
     },
     "metadata": {},
     "output_type": "display_data"
    },
    {
     "data": {
      "application/vnd.jupyter.widget-view+json": {
       "model_id": "5cdb5b800d3b4d7aa8c3af3799a00b01",
       "version_major": 2,
       "version_minor": 0
      },
      "text/plain": [
       "Label(value='')"
      ]
     },
     "metadata": {},
     "output_type": "display_data"
    },
    {
     "data": {
      "application/vnd.jupyter.widget-view+json": {
       "model_id": "76c73f4fb3f34416ab976e97667c115e",
       "version_major": 2,
       "version_minor": 0
      },
      "text/plain": [
       "Label(value='')"
      ]
     },
     "metadata": {},
     "output_type": "display_data"
    },
    {
     "data": {
      "application/vnd.jupyter.widget-view+json": {
       "model_id": "168e9781950e408baeb7e5f85f6baf9d",
       "version_major": 2,
       "version_minor": 0
      },
      "text/plain": [
       "Label(value='')"
      ]
     },
     "metadata": {},
     "output_type": "display_data"
    },
    {
     "data": {
      "application/vnd.jupyter.widget-view+json": {
       "model_id": "7238b40053d842979d99e1938f4b240f",
       "version_major": 2,
       "version_minor": 0
      },
      "text/plain": [
       "Label(value='')"
      ]
     },
     "metadata": {},
     "output_type": "display_data"
    },
    {
     "data": {
      "application/vnd.jupyter.widget-view+json": {
       "model_id": "c79880196c95471cb0b2821b9abeee70",
       "version_major": 2,
       "version_minor": 0
      },
      "text/plain": [
       "Label(value='')"
      ]
     },
     "metadata": {},
     "output_type": "display_data"
    },
    {
     "data": {
      "application/vnd.jupyter.widget-view+json": {
       "model_id": "0cbbf2b16f7542b2a101e3270a5332d8",
       "version_major": 2,
       "version_minor": 0
      },
      "text/plain": [
       "Label(value='')"
      ]
     },
     "metadata": {},
     "output_type": "display_data"
    },
    {
     "data": {
      "application/vnd.jupyter.widget-view+json": {
       "model_id": "38bdfd44511547d89874fc77f19687c0",
       "version_major": 2,
       "version_minor": 0
      },
      "text/plain": [
       "Label(value='')"
      ]
     },
     "metadata": {},
     "output_type": "display_data"
    },
    {
     "data": {
      "application/vnd.jupyter.widget-view+json": {
       "model_id": "6ce0f912fa6e467fabf3a6245c0e5741",
       "version_major": 2,
       "version_minor": 0
      },
      "text/plain": [
       "Button(description='Predict Selling Price', style=ButtonStyle())"
      ]
     },
     "metadata": {},
     "output_type": "display_data"
    },
    {
     "data": {
      "application/vnd.jupyter.widget-view+json": {
       "model_id": "9202659556fd42d98c699594ed7d6375",
       "version_major": 2,
       "version_minor": 0
      },
      "text/plain": [
       "Output()"
      ]
     },
     "metadata": {},
     "output_type": "display_data"
    }
   ],
   "source": [
    "# Section 1: Import Libraries and Load Data\n",
    "import pandas as pd\n",
    "import numpy as np\n",
    "import ipywidgets as widgets\n",
    "from IPython.display import display\n",
    "from sklearn.ensemble import RandomForestRegressor\n",
    "from sklearn.preprocessing import OneHotEncoder, StandardScaler\n",
    "from sklearn.compose import ColumnTransformer\n",
    "from sklearn.pipeline import Pipeline\n",
    "import pickle\n",
    "\n",
    "# Load your dataset\n",
    "df = pd.read_csv('SecondCar.csv')\n",
    "\n",
    "# Section 2: Create Widgets for Input\n",
    "car_selector = widgets.Dropdown(options=df['name'].unique(), description='Select Car:')\n",
    "fuel_display = widgets.Label(value=\"\")\n",
    "seller_type_display = widgets.Label(value=\"\")\n",
    "transmission_display = widgets.Label(value=\"\")\n",
    "owner_display = widgets.Label(value=\"\")\n",
    "\n",
    "# Display the unique values for year, km_driven, and ex_showroom_price without dropdowns\n",
    "year_display = widgets.Label(value=\"\")\n",
    "km_driven_display = widgets.Label(value=\"\")\n",
    "ex_showroom_price_display = widgets.Label(value=\"\")\n",
    "\n",
    "output = widgets.Output()  # Output widget for displaying predictions\n",
    "\n",
    "# Section 3: Define Update Function\n",
    "def update_values(change):\n",
    "    # Get the selected car name\n",
    "    car_name = change['new']\n",
    "    \n",
    "    # Filter the dataset based on selected car name\n",
    "    car_data = df[df['name'] == car_name]\n",
    "    \n",
    "    # If car data is not empty, update the displayed values\n",
    "    if not car_data.empty:\n",
    "        # Update labels with car details\n",
    "        fuel_display.value = f\"Fuel Type: {car_data['fuel'].values[0]}\"\n",
    "        seller_type_display.value = f\"Seller Type: {car_data['seller_type'].values[0]}\"\n",
    "        transmission_display.value = f\"Transmission: {car_data['transmission'].values[0]}\"\n",
    "        owner_display.value = f\"Owner: {car_data['owner'].values[0]}\"\n",
    "        \n",
    "        year_display.value = f\"Year: {car_data['year'].values[0]}\"\n",
    "        km_driven_display.value = f\"Kilometers Driven: {car_data['km_driven'].values[0]}\"\n",
    "        ex_showroom_price_display.value = f\"Ex Showroom Price: ₹{car_data['ExShowroom Price'].values[0]}\"\n",
    "\n",
    "# Section 4: Load Trained Model\n",
    "filename = 'Final_M_Pipeline.sav'  # Update the filename if different\n",
    "pipeline = pickle.load(open(filename, 'rb'))\n",
    "\n",
    "# Section 5: Define Price Prediction Function\n",
    "def predict_price(car_name, year, km_driven, fuel, seller_type, transmission, owner, ex_showroom_price):\n",
    "    input_data = pd.DataFrame({\n",
    "        'name': [car_name],\n",
    "        'year': [year],\n",
    "        'km_driven': [km_driven],\n",
    "        'fuel': [fuel],\n",
    "        'seller_type': [seller_type],\n",
    "        'transmission': [transmission],\n",
    "        'owner': [owner],\n",
    "        'ExShowroom Price': [ex_showroom_price]\n",
    "    })\n",
    "\n",
    "    # Predicting the price using your pipeline\n",
    "    predicted_price = pipeline.predict(input_data)[0]\n",
    "    \n",
    "    # Use the output widget to display the result\n",
    "    with output:\n",
    "        output.clear_output()  # Clear previous output\n",
    "        print(f'Predicted Selling Price: ₹{predicted_price:.2f}')\n",
    "\n",
    "# Section 6: Define Predict Button and Its Handler\n",
    "predict_button = widgets.Button(description='Predict Selling Price')\n",
    "\n",
    "# Function to handle the button click event\n",
    "def on_predict_button_clicked(b):\n",
    "    car_name = car_selector.value\n",
    "    year = int(year_display.value.split(\": \")[1])\n",
    "    km_driven = int(km_driven_display.value.split(\": \")[1])\n",
    "    fuel = fuel_display.value.split(\": \")[1]\n",
    "    seller_type = seller_type_display.value.split(\": \")[1]\n",
    "    transmission = transmission_display.value.split(\": \")[1]\n",
    "    owner = owner_display.value.split(\": \")[1]\n",
    "    ex_showroom_price = int(ex_showroom_price_display.value.split(\": ₹\")[1])\n",
    "\n",
    "    # Call the predict function\n",
    "    predict_price(car_name, year, km_driven, fuel, seller_type, transmission, owner, ex_showroom_price)\n",
    "\n",
    "# Bind the button click event\n",
    "predict_button.on_click(on_predict_button_clicked)\n",
    "\n",
    "# Section 7: Bind the Dropdown to Update Values\n",
    "car_selector.observe(update_values, names='value')\n",
    "\n",
    "# Section 8: Display All Widgets\n",
    "display(car_selector, fuel_display, seller_type_display, \n",
    "        transmission_display, owner_display, \n",
    "        year_display, km_driven_display, ex_showroom_price_display, \n",
    "        predict_button, output)"
   ]
  },
  {
   "cell_type": "code",
   "execution_count": null,
   "id": "581b3dcc-da71-4843-8772-df7ce9ee30d3",
   "metadata": {},
   "outputs": [],
   "source": []
  },
  {
   "cell_type": "code",
   "execution_count": 92,
   "id": "d6302ae1-35c6-4717-a1b5-888414a378da",
   "metadata": {},
   "outputs": [
    {
     "data": {
      "application/vnd.jupyter.widget-view+json": {
       "model_id": "852233dc89114911b1ce4a4d9362d464",
       "version_major": 2,
       "version_minor": 0
      },
      "text/plain": [
       "Dropdown(description='Car Name:', options=('Tata Indica Vista Aqua 1.4 TDI', 'Tata Nano Lx BSIV', 'Tata Indica…"
      ]
     },
     "metadata": {},
     "output_type": "display_data"
    },
    {
     "data": {
      "application/vnd.jupyter.widget-view+json": {
       "model_id": "dc696cea625d4f98ac9658ac48d60916",
       "version_major": 2,
       "version_minor": 0
      },
      "text/plain": [
       "Dropdown(description='Fuel Type:', options=('Diesel', 'Petrol', 'CNG', 'LPG', 'Electric'), value='Diesel')"
      ]
     },
     "metadata": {},
     "output_type": "display_data"
    },
    {
     "data": {
      "application/vnd.jupyter.widget-view+json": {
       "model_id": "6779515b60f34d929806f8f4392b33c4",
       "version_major": 2,
       "version_minor": 0
      },
      "text/plain": [
       "Dropdown(description='Seller Type:', options=('Individual', 'Dealer', 'Trustmark Dealer'), value='Individual')"
      ]
     },
     "metadata": {},
     "output_type": "display_data"
    },
    {
     "data": {
      "application/vnd.jupyter.widget-view+json": {
       "model_id": "6bb6f710ad94459db7e248bae98705a7",
       "version_major": 2,
       "version_minor": 0
      },
      "text/plain": [
       "Dropdown(description='Transmission:', options=('Manual', 'Automatic'), value='Manual')"
      ]
     },
     "metadata": {},
     "output_type": "display_data"
    },
    {
     "data": {
      "application/vnd.jupyter.widget-view+json": {
       "model_id": "8cd09fa8fd3e4ee3ba8e4d142c182e1c",
       "version_major": 2,
       "version_minor": 0
      },
      "text/plain": [
       "Dropdown(description='Owner:', options=('Second Owner', 'First Owner', 'Third Owner', 'Fourth & Above Owner', …"
      ]
     },
     "metadata": {},
     "output_type": "display_data"
    },
    {
     "data": {
      "application/vnd.jupyter.widget-view+json": {
       "model_id": "5330ea2651904236a34c728b6c951a50",
       "version_major": 2,
       "version_minor": 0
      },
      "text/plain": [
       "Output()"
      ]
     },
     "metadata": {},
     "output_type": "display_data"
    }
   ],
   "source": [
    "import pandas as pd\n",
    "import numpy as np\n",
    "import ipywidgets as widgets\n",
    "from IPython.display import display\n",
    "import plotly.express as px\n",
    "from sklearn.ensemble import RandomForestRegressor\n",
    "from sklearn.preprocessing import OneHotEncoder, StandardScaler\n",
    "from sklearn.compose import ColumnTransformer\n",
    "from sklearn.pipeline import Pipeline\n",
    "\n",
    "# Load the dataset\n",
    "df = pd.read_csv('SecondCar.csv')\n",
    "\n",
    "# Preprocess the data\n",
    "df = df.dropna()  # drop rows with missing values\n",
    "df = df.drop_duplicates()  # drop duplicate rows\n",
    "\n",
    "# Define features and target variable\n",
    "X = df.drop('selling_price', axis=1)\n",
    "y = df['selling_price']\n",
    "\n",
    "# Define categorical and numeric columns\n",
    "categorical_columns = ['name', 'fuel', 'seller_type', 'transmission', 'owner']\n",
    "numeric_columns = ['year', 'km_driven', 'ExShowroom Price']\n",
    "\n",
    "# Define the column transformer with one-hot encoding and scaling\n",
    "preprocessor = ColumnTransformer(\n",
    "    transformers=[\n",
    "        ('num', StandardScaler(), numeric_columns),\n",
    "        ('cat', OneHotEncoder(handle_unknown='ignore'), categorical_columns)\n",
    "    ])\n",
    "\n",
    "# Define the Random Forest model\n",
    "model = RandomForestRegressor(n_estimators=100, random_state=42)\n",
    "\n",
    "# Create a pipeline for preprocessing and model training\n",
    "pipeline = Pipeline(steps=[('preprocessor', preprocessor),\n",
    "                           ('model', model)])\n",
    "\n",
    "# Fit the model\n",
    "pipeline.fit(X, y)\n",
    "\n",
    "# Create dropdowns for user selection\n",
    "car_name_dropdown = widgets.Dropdown(\n",
    "    options=df['name'].unique(),\n",
    "    description='Car Name:',\n",
    "    value=df['name'].unique()[0]  # default to first car\n",
    ")\n",
    "\n",
    "fuel_dropdown = widgets.Dropdown(\n",
    "    options=df['fuel'].unique(),\n",
    "    description='Fuel Type:',\n",
    "    value=df['fuel'].unique()[0]\n",
    ")\n",
    "\n",
    "seller_type_dropdown = widgets.Dropdown(\n",
    "    options=df['seller_type'].unique(),\n",
    "    description='Seller Type:',\n",
    "    value=df['seller_type'].unique()[0]\n",
    ")\n",
    "\n",
    "transmission_dropdown = widgets.Dropdown(\n",
    "    options=df['transmission'].unique(),\n",
    "    description='Transmission:',\n",
    "    value=df['transmission'].unique()[0]\n",
    ")\n",
    "\n",
    "owner_dropdown = widgets.Dropdown(\n",
    "    options=df['owner'].unique(),\n",
    "    description='Owner:',\n",
    "    value=df['owner'].unique()[0]\n",
    ")\n",
    "\n",
    "# Output widget for predictions and visualizations\n",
    "output = widgets.Output()\n",
    "display(car_name_dropdown, fuel_dropdown, seller_type_dropdown, transmission_dropdown, owner_dropdown, output)\n",
    "\n",
    "# Function to update the outputs\n",
    "def update_outputs(change):\n",
    "    car_name = car_name_dropdown.value\n",
    "    car_data = df[df['name'] == car_name].iloc[0]\n",
    "    \n",
    "    # Prepare input for prediction\n",
    "    input_data = {\n",
    "        'name': car_name,\n",
    "        'year': car_data['year'],\n",
    "        'km_driven': car_data['km_driven'],\n",
    "        'fuel': car_data['fuel'],\n",
    "        'seller_type': car_data['seller_type'],\n",
    "        'transmission': car_data['transmission'],\n",
    "        'owner': car_data['owner'],\n",
    "        'ExShowroom Price': car_data['ExShowroom Price']\n",
    "    }\n",
    "    \n",
    "    # Convert input to DataFrame\n",
    "    input_df = pd.DataFrame([input_data])\n",
    "    \n",
    "    # Predict selling price\n",
    "    predicted_price = pipeline.predict(input_df)[0]\n",
    "\n",
    "    # Clear previous output\n",
    "    with output:\n",
    "        output.clear_output()\n",
    "        print(f\"Predicted Selling Price for {car_name}: ₹{predicted_price:.2f}\")\n",
    "\n",
    "        # Visualization: Selling Price vs Ex Showroom Price\n",
    "        fig1 = px.scatter(df, x='ExShowroom Price', y='selling_price',\n",
    "                          title='Selling Price vs Ex Showroom Price',\n",
    "                          labels={'ExShowroom Price': 'Ex Showroom Price', 'selling_price': 'Selling Price'},\n",
    "                          color='fuel', hover_data=['name'])\n",
    "        fig1.add_scatter(x=[car_data['ExShowroom Price']], y=[predicted_price], \n",
    "                         mode='markers', marker=dict(size=10, color='red'), name='Predicted Price')\n",
    "        fig1.show()\n",
    "\n",
    "        # Visualization: Selling Price vs Km Driven\n",
    "        fig2 = px.scatter(df, x='km_driven', y='selling_price',\n",
    "                          title='Selling Price vs Kilometers Driven',\n",
    "                          labels={'km_driven': 'Kilometers Driven', 'selling_price': 'Selling Price'},\n",
    "                          color='fuel', hover_data=['name'])\n",
    "        fig2.add_scatter(x=[car_data['km_driven']], y=[predicted_price], \n",
    "                         mode='markers', marker=dict(size=10, color='red'), name='Predicted Price')\n",
    "        fig2.show()\n",
    "\n",
    "        # Visualization: Average Selling Price by Fuel Type\n",
    "        fig3 = px.bar(df.groupby('fuel').agg({'selling_price': 'mean'}).reset_index(), \n",
    "                       x='fuel', y='selling_price',\n",
    "                       title='Average Selling Price by Fuel Type',\n",
    "                       labels={'fuel': 'Fuel Type', 'selling_price': 'Average Selling Price'})\n",
    "        fig3.show()\n",
    "\n",
    "        # Visualization: Selling Price Distribution by Seller Type\n",
    "        fig4 = px.box(df, x='seller_type', y='selling_price',\n",
    "                      title='Selling Price Distribution by Seller Type',\n",
    "                      labels={'seller_type': 'Seller Type', 'selling_price': 'Selling Price'})\n",
    "        fig4.show()\n",
    "\n",
    "        # Visualization: Selling Price vs Year\n",
    "        fig5 = px.line(df, x='year', y='selling_price', \n",
    "                       title='Selling Price vs Year',\n",
    "                       labels={'year': 'Year', 'selling_price': 'Selling Price'},\n",
    "                       color='fuel', markers=True)\n",
    "        fig5.show()\n",
    "\n",
    "# Link the dropdown to the update function\n",
    "car_name_dropdown.observe(update_outputs, names='value')\n",
    "\n",
    "# Initial call to display outputs for the default selected car\n",
    "update_outputs(None)"
   ]
  }
 ],
 "metadata": {
  "kernelspec": {
   "display_name": "Python 3 (ipykernel)",
   "language": "python",
   "name": "python3"
  },
  "language_info": {
   "codemirror_mode": {
    "name": "ipython",
    "version": 3
   },
   "file_extension": ".py",
   "mimetype": "text/x-python",
   "name": "python",
   "nbconvert_exporter": "python",
   "pygments_lexer": "ipython3",
   "version": "3.12.1"
  }
 },
 "nbformat": 4,
 "nbformat_minor": 5
}
